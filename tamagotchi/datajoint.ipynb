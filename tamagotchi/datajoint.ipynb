{
 "cells": [
  {
   "cell_type": "code",
   "execution_count": null,
   "metadata": {},
   "outputs": [],
   "source": [
    "# read in the credentials as environment variables\n",
    "import sys\n",
    "import os\n",
    "env_vars = !cat /src/.env\n",
    "# env_vars = !cat /gscratch/walkerlab/jqhu/smartFlies/tamagotchi/.env\n",
    "for var in env_vars:\n",
    "    key, value = var.split('=')\n",
    "    os.environ[key] = value\n",
    "\n",
    "# Print variable FOO\n",
    "# print(os.environ.get('DJ_PASS')) # Returns 'BAR'\n",
    "\n",
    "from schemas.schema_v3 import *"
   ]
  },
  {
   "cell_type": "code",
   "execution_count": null,
   "metadata": {},
   "outputs": [],
   "source": [
    "schema.jobs\n",
    "# (schema.jobs & 'status=\"error\"' & 'key_hash=\"0bb9a16627e73f4077ef6a5c2fbc67b9\"').delete()\n",
    "(schema.jobs & 'status=\"error\"' & 'key_hash=\"22877960269526f63370b8c034837d9c\"').fetch()\n",
    "\n",
    "# schema.jobs.delete()"
   ]
  },
  {
   "cell_type": "code",
   "execution_count": null,
   "metadata": {},
   "outputs": [],
   "source": [
    "TrainingConfig()\n",
    "# (TrainingConfig() & 'training_config_hash=\"061f81f6e646a49a94eb2d27c0bf41ef\"')\n",
    "# (TrainingConfig() & 'save_dir=\"/src/data/TrainingCurriculum/sw_dist_logstep_wind_cond_0.01/\"')\n",
    "# (TrainingConfig() & 'save_dir=\"/src/data/TrainingCurriculum/sw_dist_logstep_wind_cond_0.01/\"').delete()\n",
    "# filter by float may have issues due to how numbers are represented in binary "
   ]
  },
  {
   "cell_type": "code",
   "execution_count": null,
   "metadata": {},
   "outputs": [],
   "source": [
    "TrainingResult.populate(reserve_jobs=True)"
   ]
  },
  {
   "cell_type": "code",
   "execution_count": null,
   "metadata": {},
   "outputs": [],
   "source": [
    "TrainingResult()"
   ]
  },
  {
   "cell_type": "markdown",
   "metadata": {},
   "source": [
    "# insert a hyak-based example 061824"
   ]
  },
  {
   "cell_type": "code",
   "execution_count": null,
   "metadata": {},
   "outputs": [],
   "source": [
    "dict_to_insert = {\n",
    " 'save_dir': '/src/data/wind_sensing/apparent_wind_visual_feedback/sw_dist_logstep_wind_0.001/',\n",
    "#  'outsuffix': '', # to be built by insert \n",
    " 'num_processes': 4, # nproc=8 for 4 concurrently agents. \n",
    "#  'seed': 2894, # to be sampled when inserting\n",
    " 'dataset': ['constantx5b5', 'switch45x5b5', 'noisy3x5b5'],\n",
    " 'num_env_steps': 10000000,\n",
    " 'qvar': [2.0, 1.0, 0.5], # Variance of init. location; higher = more off-plume initializations. Note this is set to 0 in evalCli \n",
    " 'birthx': 0.001, # TODO: verify this is what Toha has\n",
    " 'diff_max': [0.8, 0.8, 0.8],\n",
    " 'diff_min': [0.7, 0.65, 0.4],\n",
    " 'apparent_wind': True,\n",
    " 'apparent_wind_allo': False,\n",
    " 'visual_feedback': True,\n",
    " 'birthx_linear_tc_steps': 7, \n",
    " 'birthx_max': 1.0,\n",
    " 'dryrun': False,\n",
    " 'algo': 'ppo',\n",
    " 'lr': 0.0003,\n",
    " 'eps': 1e-05,\n",
    " 'alpha': 0.99,\n",
    " 'gamma': 0.99,\n",
    " 'use_gae': True,\n",
    " 'gae_lambda': 0.95,\n",
    " 'entropy_coef': 0.005,\n",
    " 'value_loss_coef': 0.5,\n",
    " 'max_grad_norm': 0.5,\n",
    " 'cuda_deterministic': False,\n",
    " 'num_steps': 2048,\n",
    " 'ppo_epoch': 10,\n",
    " 'num_mini_batch': 4,\n",
    " 'clip_param': 0.2,\n",
    " 'log_interval': 1,\n",
    " 'save_interval': 100,\n",
    " 'no_cuda': False,\n",
    " 'use_proper_time_limits': False,\n",
    " 'recurrent_policy': True,\n",
    " 'use_linear_lr_decay': True,\n",
    " 'env_name': 'plume',\n",
    " 'log_dir': '/tmp/gym/',\n",
    " 'dynamic': False,\n",
    " 'eval_type': 'skip',\n",
    " 'eval_episodes': 20,\n",
    " 'eval_interval': None,\n",
    " 'weight_decay': 0.0001,\n",
    " 'rnn_type': 'VRNN',\n",
    " 'hidden_size': 64,\n",
    " 'betadist': False,\n",
    " 'stacking': 0,\n",
    " 'masking': None,\n",
    " 'stride': 1,\n",
    " 'curriculum': False,\n",
    " 'turnx': 1.0,\n",
    " 'movex': 1.0,\n",
    " 'auto_movex': False,\n",
    " 'auto_reward': False,\n",
    " 'loc_algo': 'uniform',\n",
    " 'time_algo': 'uniform',\n",
    " 'env_dt': 0.04,\n",
    " 'walking': False,\n",
    " 'radiusx': 1.0,\n",
    " 'diffusion_min': 1.0,\n",
    " 'diffusion_max': 1.0,\n",
    " 'r_shaping': ['step', 'oob'],\n",
    " 'wind_rel': True,\n",
    " 'action_feedback': False,\n",
    " 'squash_action': True,\n",
    " 'flipping': True,\n",
    " 'odor_scaling': True,\n",
    " 'stray_max': 2.0,\n",
    " 'test_episodes': 50,\n",
    " 'viz_episodes': 10,\n",
    " 'model_fname': '',\n",
    " 'obs_noise': 0.0,\n",
    " 'act_noise': 0.0,\n",
    " 'cuda': True\n",
    " }"
   ]
  },
  {
   "cell_type": "code",
   "execution_count": null,
   "metadata": {},
   "outputs": [],
   "source": [
    "for i in range(15):\n",
    "    TrainingConfig.insert1(dict_to_insert)"
   ]
  },
  {
   "cell_type": "code",
   "execution_count": null,
   "metadata": {},
   "outputs": [],
   "source": [
    "TrainingConfig().fetch()['outsuffix']\n",
    "len(TrainingConfig().fetch()['outsuffix'])\n"
   ]
  },
  {
   "cell_type": "code",
   "execution_count": null,
   "metadata": {},
   "outputs": [],
   "source": [
    "schema.jobs"
   ]
  },
  {
   "cell_type": "markdown",
   "metadata": {},
   "source": [
    "# filtering table entries"
   ]
  },
  {
   "cell_type": "code",
   "execution_count": null,
   "metadata": {},
   "outputs": [],
   "source": [
    "TrainingConfig & 'lr < 1'\n",
    "TrainingConfig().fetch()['save_dir']"
   ]
  },
  {
   "cell_type": "markdown",
   "metadata": {},
   "source": [
    "# scaping the table"
   ]
  },
  {
   "cell_type": "code",
   "execution_count": null,
   "metadata": {},
   "outputs": [],
   "source": [
    "TrainingConfig.drop()"
   ]
  }
 ],
 "metadata": {
  "kernelspec": {
   "display_name": "Python 3 (ipykernel)",
   "language": "python",
   "name": "python3"
  },
  "language_info": {
   "codemirror_mode": {
    "name": "ipython",
    "version": 3
   },
   "file_extension": ".py",
   "mimetype": "text/x-python",
   "name": "python",
   "nbconvert_exporter": "python",
   "pygments_lexer": "ipython3",
   "version": "3.8.10"
  }
 },
 "nbformat": 4,
 "nbformat_minor": 2
}
