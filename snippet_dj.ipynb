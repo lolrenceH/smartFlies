{
 "cells": [
  {
   "cell_type": "code",
   "execution_count": null,
   "metadata": {},
   "outputs": [],
   "source": [
    "import datajoint as dj\n",
    "\n",
    "dj.config['database.host'] = 'dev0.uwcnc.net'\n",
    "dj.config['database.user'] = 'jq'\n",
    "dj.config['database.password'] = \n",
    "\n",
    "dj.config.save_global()\n",
    "\n",
    "schema = dj.schema('jq_fly')\n",
    "virtual_module = dj.create_virtual_module('jq_fly', 'jq_fly')\n",
    "virtual_module.Student()\n"
   ]
  }
 ],
 "metadata": {
  "language_info": {
   "name": "python"
  }
 },
 "nbformat": 4,
 "nbformat_minor": 2
}
